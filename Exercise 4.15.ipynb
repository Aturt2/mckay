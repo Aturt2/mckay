{
 "cells": [
  {
   "cell_type": "code",
   "execution_count": 1,
   "metadata": {},
   "outputs": [
    {
     "name": "stderr",
     "output_type": "stream",
     "text": [
      "C:\\Anacondas\\lib\\site-packages\\ipykernel\\parentpoller.py:116: UserWarning: Parent poll failed.  If the frontend dies,\n",
      "                the kernel may be left running.  Please let us know\n",
      "                about your system (bitness, Python, etc.) at\n",
      "                ipython-dev@scipy.org\n",
      "  ipython-dev@scipy.org\"\"\")\n"
     ]
    }
   ],
   "source": [
    "import numpy as np\n",
    "import matplotlib.pyplot as plt\n",
    "import math\n",
    "from scipy.special import comb\n",
    "from itertools import chain"
   ]
  },
  {
   "cell_type": "markdown",
   "metadata": {},
   "source": [
    "# Ex. 4.15"
   ]
  },
  {
   "cell_type": "code",
   "execution_count": 2,
   "metadata": {},
   "outputs": [],
   "source": [
    "def log(x):\n",
    "    if (x == 0):\n",
    "        return 1\n",
    "    else:\n",
    "        return (math.log(x, 2))"
   ]
  },
  {
   "cell_type": "code",
   "execution_count": 3,
   "metadata": {},
   "outputs": [],
   "source": [
    "def combinatorial(p, N, r):\n",
    "    if (N>10 and N<N-10):\n",
    "        return int(2**(N*(p*log(p) + (1-p)*log(1-p))))\n",
    "    else: \n",
    "        return int(comb(N, r))"
   ]
  },
  {
   "cell_type": "code",
   "execution_count": 4,
   "metadata": {},
   "outputs": [],
   "source": [
    "def prob_x(p, N, r):\n",
    "    return p**r*(1-p)**(N - r)"
   ]
  },
  {
   "cell_type": "code",
   "execution_count": 5,
   "metadata": {},
   "outputs": [],
   "source": [
    "def prob_r(p, N, r):\n",
    "    values = []\n",
    "    if (r == 0 or r == N):\n",
    "        return [prob_x(p, N, r)]  \n",
    "    else:\n",
    "        values.append(prob_x(p, N, r))\n",
    "        return np.array(values*combinatorial(p, N, r)).tolist()"
   ]
  },
  {
   "cell_type": "markdown",
   "metadata": {},
   "source": [
    "Plot for N=1, N=2 and N=3"
   ]
  },
  {
   "cell_type": "code",
   "execution_count": 15,
   "metadata": {},
   "outputs": [
    {
     "name": "stdout",
     "output_type": "stream",
     "text": [
      "[0.6561, 0.0729, 0.0729, 0.0729, 0.0729, 0.008100000000000001, 0.008100000000000001, 0.008100000000000001, 0.008100000000000001, 0.008100000000000001, 0.008100000000000001, 0.0009000000000000002, 0.0009000000000000002, 0.0009000000000000002, 0.0009000000000000002, 0.00010000000000000002]\n"
     ]
    }
   ],
   "source": [
    "N = 4\n",
    "\n",
    "probs_N = [prob_r(0.1, N, r) for r in range (0, N + 1)]\n",
    "probs_N = list(chain(*probs_N))\n",
    "bits = []\n",
    "delta = []\n",
    "pr_sort = sorted(probs_N)\n",
    "\n",
    "delta.append(0)\n",
    "bits.append(log(len(pr_sort))/N)\n",
    "\n",
    "while (len(pr_sort) > 2):\n",
    "    delta.append(pr_sort[0])    \n",
    "    pr_sort[1] = pr_sort[0] + pr_sort[1]\n",
    "    pr_sort.remove(pr_sort[0])\n",
    "    bits.append(log(len(pr_sort))/N)\n",
    "\n",
    "for y in np.arange(pr_sort[0], 1, 0.01):\n",
    "            delta.append(y)\n",
    "            bits.append(0)"
   ]
  },
  {
   "cell_type": "code",
   "execution_count": 17,
   "metadata": {},
   "outputs": [
    {
     "data": {
      "text/plain": [
       "[<matplotlib.lines.Line2D at 0x26aaaac5c88>]"
      ]
     },
     "execution_count": 17,
     "metadata": {},
     "output_type": "execute_result"
    },
    {
     "data": {
      "image/png": "[encoded data removed]",
      "text/plain": [
       "<Figure size 432x288 with 1 Axes>"
      ]
     },
     "metadata": {
      "needs_background": "light"
     },
     "output_type": "display_data"
    }
   ],
   "source": [
    "plt.plot(delta[:10], bits[:10], 'x')"
   ]
  },
  {
   "cell_type": "code",
   "execution_count": null,
   "metadata": {},
   "outputs": [],
   "source": []
  }
 ],
 "metadata": {
  "kernelspec": {
   "display_name": "Python 3",
   "language": "python",
   "name": "python3"
  },
  "language_info": {
   "codemirror_mode": {
    "name": "ipython",
    "version": 3
   },
   "file_extension": ".py",
   "mimetype": "text/x-python",
   "name": "python",
   "nbconvert_exporter": "python",
   "pygments_lexer": "ipython3",
   "version": "3.7.0"
  }
 },
 "nbformat": 4,
 "nbformat_minor": 2
}
