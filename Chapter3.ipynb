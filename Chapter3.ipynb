{
 "cells": [
  {
   "cell_type": "markdown",
   "metadata": {},
   "source": [
    "# Chapter 3"
   ]
  },
  {
   "cell_type": "code",
   "execution_count": 1,
   "metadata": {},
   "outputs": [],
   "source": [
    "import numpy as np\n",
    "import matplotlib.pyplot as plt"
   ]
  },
  {
   "cell_type": "markdown",
   "metadata": {},
   "source": [
    "<a id=\"contents\"></a>"
   ]
  },
  {
   "cell_type": "markdown",
   "metadata": {},
   "source": [
    "## Contents"
   ]
  },
  {
   "cell_type": "markdown",
   "metadata": {},
   "source": [
    "<a href=#ex3.1>Exercise 3.1</a><br>\n",
    "<a href=#ex3.2>Exercise 3.2</a><br>\n",
    "<a href=#ex3.3>Exercise 3.3</a><br>\n",
    "<a href=#ex3.4>Exercise 3.4</a><br>"
   ]
  },
  {
   "cell_type": "markdown",
   "metadata": {},
   "source": [
    "<a id=\"ex3.1\"></a>"
   ]
  },
  {
   "cell_type": "markdown",
   "metadata": {},
   "source": [
    "### Exercise 3.1"
   ]
  },
  {
   "cell_type": "markdown",
   "metadata": {},
   "source": [
    "$P(die A | seq) = \\frac{P(seq | die A)P(die A)}{P(seq)}$ <br><br>\n",
    "$P(die A) = P(die B) = 0.5$ <br><br>\n",
    "$P(seq | die A) = P(5 | die A) P(3 | die A) P(9 | die A) P(3 | die A) P(8 | die A) P(4 | die A) P(7 | die A)$ <br><br>\n",
    "$P(seq) = P(die A) P(seq | die A) + P(die B) P(seq | die B)$"
   ]
  },
  {
   "cell_type": "code",
   "execution_count": 15,
   "metadata": {},
   "outputs": [],
   "source": [
    "p_A = 0.5\n",
    "p_B = 0.5\n",
    "p_seq_A = np.product(np.array([1, 3, 1, 3, 1, 2, 1])/20)\n",
    "p_seq_B = np.product(np.array([2, 2, 1, 2, 2, 2, 2])/20)"
   ]
  },
  {
   "cell_type": "code",
   "execution_count": 16,
   "metadata": {},
   "outputs": [
    {
     "data": {
      "text/plain": [
       "0.21951219512195116"
      ]
     },
     "execution_count": 16,
     "metadata": {},
     "output_type": "execute_result"
    }
   ],
   "source": [
    "(p_A * p_seq_A) / (p_A * p_seq_A + p_B * p_seq_B)"
   ]
  },
  {
   "cell_type": "markdown",
   "metadata": {},
   "source": [
    "<a href=#contents>Back to contents</a>"
   ]
  },
  {
   "cell_type": "markdown",
   "metadata": {},
   "source": [
    "<a id=\"ex3.2\"></a>"
   ]
  },
  {
   "cell_type": "markdown",
   "metadata": {},
   "source": [
    "### Exercise 3.2"
   ]
  },
  {
   "cell_type": "markdown",
   "metadata": {},
   "source": [
    "Same but with another die which is uniform."
   ]
  },
  {
   "cell_type": "code",
   "execution_count": 19,
   "metadata": {},
   "outputs": [],
   "source": [
    "dice_probs = np.array([1/3] * 3)\n",
    "p_seq_C = np.product(np.array([1/20] * 7))"
   ]
  },
  {
   "cell_type": "code",
   "execution_count": 20,
   "metadata": {},
   "outputs": [
    {
     "name": "stdout",
     "output_type": "stream",
     "text": [
      "Probability of die  A :  0.21686746988\n",
      "Probability of die  B :  0.771084337349\n",
      "Probability of die  C :  0.0120481927711\n"
     ]
    }
   ],
   "source": [
    "p_seqs = np.array([p_seq_A, p_seq_B, p_seq_C])\n",
    "for die, p_seq in zip([\"A\", \"B\", \"C\"], p_seqs):\n",
    "    p_die = p_seq / np.sum(p_seqs)\n",
    "    print(\"Probability of die \", die, \": \", p_die)"
   ]
  },
  {
   "cell_type": "markdown",
   "metadata": {},
   "source": [
    "<a href=#contents>Back to contents</a>"
   ]
  },
  {
   "cell_type": "markdown",
   "metadata": {},
   "source": [
    "<a id=ex3.3></a>"
   ]
  },
  {
   "cell_type": "markdown",
   "metadata": {},
   "source": [
    "### Exercise 3.3"
   ]
  },
  {
   "cell_type": "markdown",
   "metadata": {},
   "source": [
    "$P(a<x<b | \\lambda) = \\int_{a}^{b} \\lambda e^{-\\lambda x} dx$ <br><br>\n",
    "$P(\\lambda) = 1$ <br><br>\n"
   ]
  },
  {
   "cell_type": "markdown",
   "metadata": {},
   "source": [
    "<a href=#contents>Back to contents</a>"
   ]
  },
  {
   "cell_type": "markdown",
   "metadata": {},
   "source": [
    "<a id=\"ex3.4\"></a>"
   ]
  },
  {
   "cell_type": "markdown",
   "metadata": {},
   "source": [
    "### Exercise 3.4"
   ]
  },
  {
   "cell_type": "markdown",
   "metadata": {},
   "source": [
    "$P(Oliver | O, AB) = \\frac{P(O, AB | Oliver) P(Oliver)}{P(O, AB)}$ <br><br>\n",
    "$P(O, AB | Oliver) = P(O | Oliver) P(AB | Oliver) = 1·0.01$ <br><br>\n",
    "$P(O, AB) = P(O) P(AB) + P(AB) P(O) = 0.6·0.01 + 0.01·0.6$"
   ]
  },
  {
   "cell_type": "code",
   "execution_count": 28,
   "metadata": {},
   "outputs": [
    {
     "data": {
      "text/plain": [
       "0.8333333333333334"
      ]
     },
     "execution_count": 28,
     "metadata": {},
     "output_type": "execute_result"
    }
   ],
   "source": [
    "0.01/(0.6*0.01*2)"
   ]
  },
  {
   "cell_type": "markdown",
   "metadata": {},
   "source": [
    "$P(Oliver | O, AB) = 0.833 P(Oliver) \\rightarrow$ The probability of Oliver being in the crime scene decreases with respect to the prior."
   ]
  },
  {
   "cell_type": "markdown",
   "metadata": {},
   "source": [
    "<a href=#contents>Back to contents</a>"
   ]
  },
  {
   "cell_type": "code",
   "execution_count": null,
   "metadata": {},
   "outputs": [],
   "source": []
  }
 ],
 "metadata": {
  "kernelspec": {
   "display_name": "Python 3",
   "language": "python",
   "name": "python3"
  },
  "language_info": {
   "codemirror_mode": {
    "name": "ipython",
    "version": 3
   },
   "file_extension": ".py",
   "mimetype": "text/x-python",
   "name": "python",
   "nbconvert_exporter": "python",
   "pygments_lexer": "ipython3",
   "version": "3.7.0"
  }
 },
 "nbformat": 4,
 "nbformat_minor": 2
}
